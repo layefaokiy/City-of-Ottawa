{
 "cells": [
  {
   "cell_type": "code",
   "execution_count": 159,
   "metadata": {},
   "outputs": [],
   "source": [
    "import pandas as pd\n",
    "import matplotlib.pyplot as plt\n",
    "import seaborn as sns\n",
    "\n",
    "%matplotlib inline"
   ]
  },
  {
   "cell_type": "code",
   "execution_count": 160,
   "metadata": {},
   "outputs": [],
   "source": [
    "data = pd.read_csv('Canadian_Housing_Survey_(CHS)_results_for_Ottawa_level_2018_and_2021_.csv')"
   ]
  },
  {
   "cell_type": "code",
   "execution_count": 161,
   "metadata": {},
   "outputs": [
    {
     "data": {
      "text/html": [
       "<div>\n",
       "<style scoped>\n",
       "    .dataframe tbody tr th:only-of-type {\n",
       "        vertical-align: middle;\n",
       "    }\n",
       "\n",
       "    .dataframe tbody tr th {\n",
       "        vertical-align: top;\n",
       "    }\n",
       "\n",
       "    .dataframe thead th {\n",
       "        text-align: right;\n",
       "    }\n",
       "</style>\n",
       "<table border=\"1\" class=\"dataframe\">\n",
       "  <thead>\n",
       "    <tr style=\"text-align: right;\">\n",
       "      <th></th>\n",
       "      <th>year</th>\n",
       "      <th>theme</th>\n",
       "      <th>qid_key</th>\n",
       "      <th>qid</th>\n",
       "      <th>qheader</th>\n",
       "      <th>qsub</th>\n",
       "      <th>socio_group</th>\n",
       "      <th>group_</th>\n",
       "      <th>response</th>\n",
       "      <th>num</th>\n",
       "      <th>denom</th>\n",
       "      <th>percent_</th>\n",
       "      <th>Quality</th>\n",
       "      <th>ObjectId</th>\n",
       "    </tr>\n",
       "  </thead>\n",
       "  <tbody>\n",
       "    <tr>\n",
       "      <th>0</th>\n",
       "      <td>2021</td>\n",
       "      <td>Financial pressures</td>\n",
       "      <td>11</td>\n",
       "      <td>9</td>\n",
       "      <td>[Among those who skipped or delayed a mortgage...</td>\n",
       "      <td>NaN</td>\n",
       "      <td>Education</td>\n",
       "      <td>University certificate</td>\n",
       "      <td>No</td>\n",
       "      <td>16300.0</td>\n",
       "      <td>17000</td>\n",
       "      <td>95.9</td>\n",
       "      <td>Good</td>\n",
       "      <td>1</td>\n",
       "    </tr>\n",
       "    <tr>\n",
       "      <th>1</th>\n",
       "      <td>2018</td>\n",
       "      <td>Financial pressures</td>\n",
       "      <td>11</td>\n",
       "      <td>9</td>\n",
       "      <td>[Among those who skipped or delayed a mortgage...</td>\n",
       "      <td>NaN</td>\n",
       "      <td>Education</td>\n",
       "      <td>University certificate</td>\n",
       "      <td>No</td>\n",
       "      <td>10800.0</td>\n",
       "      <td>13300</td>\n",
       "      <td>81.2</td>\n",
       "      <td>Good</td>\n",
       "      <td>2</td>\n",
       "    </tr>\n",
       "    <tr>\n",
       "      <th>2</th>\n",
       "      <td>2018</td>\n",
       "      <td>Financial pressures</td>\n",
       "      <td>11</td>\n",
       "      <td>9</td>\n",
       "      <td>[Among those who skipped or delayed a mortgage...</td>\n",
       "      <td>NaN</td>\n",
       "      <td>Racial identity</td>\n",
       "      <td>Racialized</td>\n",
       "      <td>No</td>\n",
       "      <td>20900.0</td>\n",
       "      <td>25700</td>\n",
       "      <td>81.3</td>\n",
       "      <td>Good</td>\n",
       "      <td>3</td>\n",
       "    </tr>\n",
       "    <tr>\n",
       "      <th>3</th>\n",
       "      <td>2021</td>\n",
       "      <td>Financial pressures</td>\n",
       "      <td>11</td>\n",
       "      <td>9</td>\n",
       "      <td>[Among those who skipped or delayed a mortgage...</td>\n",
       "      <td>NaN</td>\n",
       "      <td>Racial identity</td>\n",
       "      <td>Racialized</td>\n",
       "      <td>No</td>\n",
       "      <td>39800.0</td>\n",
       "      <td>43200</td>\n",
       "      <td>92.1</td>\n",
       "      <td>Good</td>\n",
       "      <td>4</td>\n",
       "    </tr>\n",
       "    <tr>\n",
       "      <th>4</th>\n",
       "      <td>2018</td>\n",
       "      <td>Financial pressures</td>\n",
       "      <td>46</td>\n",
       "      <td>42</td>\n",
       "      <td>Is any member of your household currently on a...</td>\n",
       "      <td>NaN</td>\n",
       "      <td>Sexual orientation</td>\n",
       "      <td>LGBTQ2S+</td>\n",
       "      <td>No</td>\n",
       "      <td>38000.0</td>\n",
       "      <td>38000</td>\n",
       "      <td>100.0</td>\n",
       "      <td>Good</td>\n",
       "      <td>5</td>\n",
       "    </tr>\n",
       "  </tbody>\n",
       "</table>\n",
       "</div>"
      ],
      "text/plain": [
       "   year                theme  qid_key  qid  \\\n",
       "0  2021  Financial pressures       11    9   \n",
       "1  2018  Financial pressures       11    9   \n",
       "2  2018  Financial pressures       11    9   \n",
       "3  2021  Financial pressures       11    9   \n",
       "4  2018  Financial pressures       46   42   \n",
       "\n",
       "                                             qheader qsub         socio_group  \\\n",
       "0  [Among those who skipped or delayed a mortgage...  NaN           Education   \n",
       "1  [Among those who skipped or delayed a mortgage...  NaN           Education   \n",
       "2  [Among those who skipped or delayed a mortgage...  NaN     Racial identity   \n",
       "3  [Among those who skipped or delayed a mortgage...  NaN     Racial identity   \n",
       "4  Is any member of your household currently on a...  NaN  Sexual orientation   \n",
       "\n",
       "                   group_ response      num  denom  percent_ Quality  ObjectId  \n",
       "0  University certificate       No  16300.0  17000      95.9    Good         1  \n",
       "1  University certificate       No  10800.0  13300      81.2    Good         2  \n",
       "2              Racialized       No  20900.0  25700      81.3    Good         3  \n",
       "3              Racialized       No  39800.0  43200      92.1    Good         4  \n",
       "4                LGBTQ2S+       No  38000.0  38000     100.0    Good         5  "
      ]
     },
     "execution_count": 161,
     "metadata": {},
     "output_type": "execute_result"
    }
   ],
   "source": [
    "data.head()"
   ]
  },
  {
   "cell_type": "code",
   "execution_count": 162,
   "metadata": {},
   "outputs": [
    {
     "name": "stdout",
     "output_type": "stream",
     "text": [
      "<class 'pandas.core.frame.DataFrame'>\n",
      "RangeIndex: 3014 entries, 0 to 3013\n",
      "Data columns (total 14 columns):\n",
      " #   Column       Non-Null Count  Dtype  \n",
      "---  ------       --------------  -----  \n",
      " 0   year         3014 non-null   int64  \n",
      " 1   theme        3014 non-null   object \n",
      " 2   qid_key      3014 non-null   int64  \n",
      " 3   qid          3014 non-null   int64  \n",
      " 4   qheader      3014 non-null   object \n",
      " 5   qsub         1859 non-null   object \n",
      " 6   socio_group  2846 non-null   object \n",
      " 7   group_       3014 non-null   object \n",
      " 8   response     3014 non-null   object \n",
      " 9   num          2948 non-null   float64\n",
      " 10  denom        3014 non-null   int64  \n",
      " 11  percent_     2948 non-null   float64\n",
      " 12  Quality      2516 non-null   object \n",
      " 13  ObjectId     3014 non-null   int64  \n",
      "dtypes: float64(2), int64(5), object(7)\n",
      "memory usage: 329.8+ KB\n"
     ]
    }
   ],
   "source": [
    "data.info()"
   ]
  },
  {
   "cell_type": "code",
   "execution_count": 163,
   "metadata": {},
   "outputs": [
    {
     "data": {
      "text/plain": [
       "42196"
      ]
     },
     "execution_count": 163,
     "metadata": {},
     "output_type": "execute_result"
    }
   ],
   "source": [
    "data.size"
   ]
  },
  {
   "cell_type": "code",
   "execution_count": 164,
   "metadata": {},
   "outputs": [
    {
     "data": {
      "text/plain": [
       "Index(['year', 'theme', 'qid_key', 'qid', 'qheader', 'qsub', 'socio_group',\n",
       "       'group_', 'response', 'num', 'denom', 'percent_', 'Quality',\n",
       "       'ObjectId'],\n",
       "      dtype='object')"
      ]
     },
     "execution_count": 164,
     "metadata": {},
     "output_type": "execute_result"
    }
   ],
   "source": [
    "data.columns"
   ]
  },
  {
   "cell_type": "code",
   "execution_count": 165,
   "metadata": {},
   "outputs": [
    {
     "data": {
      "text/plain": [
       "year              0\n",
       "theme             0\n",
       "qid_key           0\n",
       "qid               0\n",
       "qheader           0\n",
       "qsub           1155\n",
       "socio_group     168\n",
       "group_            0\n",
       "response          0\n",
       "num              66\n",
       "denom             0\n",
       "percent_         66\n",
       "Quality         498\n",
       "ObjectId          0\n",
       "dtype: int64"
      ]
     },
     "execution_count": 165,
     "metadata": {},
     "output_type": "execute_result"
    }
   ],
   "source": [
    "# Check for missing values in each column\n",
    "data.isnull().sum()"
   ]
  },
  {
   "cell_type": "code",
   "execution_count": 166,
   "metadata": {},
   "outputs": [
    {
     "data": {
      "text/plain": [
       "year              0\n",
       "theme             0\n",
       "qid_key           0\n",
       "qid               0\n",
       "qheader           0\n",
       "qsub           1155\n",
       "socio_group     168\n",
       "group_            0\n",
       "response          0\n",
       "num              66\n",
       "denom             0\n",
       "percent_         66\n",
       "Quality         498\n",
       "ObjectId          0\n",
       "dtype: int64"
      ]
     },
     "execution_count": 166,
     "metadata": {},
     "output_type": "execute_result"
    }
   ],
   "source": [
    "data.isnull().sum()"
   ]
  },
  {
   "cell_type": "code",
   "execution_count": 168,
   "metadata": {},
   "outputs": [
    {
     "data": {
      "text/plain": [
       "Quality\n",
       "Good                1927\n",
       "NaN                  498\n",
       "Use with caution     265\n",
       "Acceptable           249\n",
       "Suppressed            75\n",
       "Name: count, dtype: int64"
      ]
     },
     "execution_count": 168,
     "metadata": {},
     "output_type": "execute_result"
    }
   ],
   "source": [
    "# Check the count of the unique values in the 'Quality' column to assess data quality\n",
    "data['Quality'].value_counts(dropna=False)"
   ]
  },
  {
   "cell_type": "code",
   "execution_count": 169,
   "metadata": {},
   "outputs": [],
   "source": [
    "# Assuming we want to proceed with data marked as 'Good' in the Quality column\n",
    "data_cleaned = data[data['Quality'] == 'Good']"
   ]
  },
  {
   "cell_type": "code",
   "execution_count": 170,
   "metadata": {},
   "outputs": [],
   "source": [
    "# Drop rows with missing values in critical columns (e.g., 'num', 'denom', 'percent_')\n",
    "data_cleaned = data_cleaned.dropna(subset=['num', 'denom', 'percent_'])\n"
   ]
  },
  {
   "cell_type": "code",
   "execution_count": 171,
   "metadata": {},
   "outputs": [],
   "source": [
    "# Recalculate 'percent_' to ensure accuracy (if needed)\n",
    "data_cleaned['percent_'] = (data_cleaned['num'] / data_cleaned['denom']) * 100"
   ]
  },
  {
   "cell_type": "code",
   "execution_count": 172,
   "metadata": {},
   "outputs": [
    {
     "data": {
      "text/plain": [
       "year             0\n",
       "theme            0\n",
       "qid_key          0\n",
       "qid              0\n",
       "qheader          0\n",
       "qsub           881\n",
       "socio_group    119\n",
       "group_           0\n",
       "response         0\n",
       "num              0\n",
       "denom            0\n",
       "percent_         0\n",
       "Quality          0\n",
       "ObjectId         0\n",
       "dtype: int64"
      ]
     },
     "execution_count": 172,
     "metadata": {},
     "output_type": "execute_result"
    }
   ],
   "source": [
    "#checking the columns to confirm only qsub and socio group have na values\n",
    "data_cleaned.isnull().sum()"
   ]
  },
  {
   "cell_type": "code",
   "execution_count": 173,
   "metadata": {},
   "outputs": [
    {
     "data": {
      "text/plain": [
       "(1926, 14)"
      ]
     },
     "execution_count": 173,
     "metadata": {},
     "output_type": "execute_result"
    }
   ],
   "source": [
    "# Check the shape of the cleaned data to see how many rows and columns are left\n",
    "data_cleaned.shape\n"
   ]
  },
  {
   "cell_type": "code",
   "execution_count": 174,
   "metadata": {},
   "outputs": [
    {
     "data": {
      "text/html": [
       "<div>\n",
       "<style scoped>\n",
       "    .dataframe tbody tr th:only-of-type {\n",
       "        vertical-align: middle;\n",
       "    }\n",
       "\n",
       "    .dataframe tbody tr th {\n",
       "        vertical-align: top;\n",
       "    }\n",
       "\n",
       "    .dataframe thead th {\n",
       "        text-align: right;\n",
       "    }\n",
       "</style>\n",
       "<table border=\"1\" class=\"dataframe\">\n",
       "  <thead>\n",
       "    <tr style=\"text-align: right;\">\n",
       "      <th></th>\n",
       "      <th>year</th>\n",
       "      <th>theme</th>\n",
       "      <th>qid_key</th>\n",
       "      <th>qid</th>\n",
       "      <th>qheader</th>\n",
       "      <th>qsub</th>\n",
       "      <th>socio_group</th>\n",
       "      <th>group_</th>\n",
       "      <th>response</th>\n",
       "      <th>num</th>\n",
       "      <th>denom</th>\n",
       "      <th>percent_</th>\n",
       "      <th>Quality</th>\n",
       "      <th>ObjectId</th>\n",
       "    </tr>\n",
       "  </thead>\n",
       "  <tbody>\n",
       "    <tr>\n",
       "      <th>0</th>\n",
       "      <td>2021</td>\n",
       "      <td>Financial pressures</td>\n",
       "      <td>11</td>\n",
       "      <td>9</td>\n",
       "      <td>[Among those who skipped or delayed a mortgage...</td>\n",
       "      <td>NaN</td>\n",
       "      <td>Education</td>\n",
       "      <td>University certificate</td>\n",
       "      <td>No</td>\n",
       "      <td>16300.0</td>\n",
       "      <td>17000</td>\n",
       "      <td>95.882353</td>\n",
       "      <td>Good</td>\n",
       "      <td>1</td>\n",
       "    </tr>\n",
       "    <tr>\n",
       "      <th>1</th>\n",
       "      <td>2018</td>\n",
       "      <td>Financial pressures</td>\n",
       "      <td>11</td>\n",
       "      <td>9</td>\n",
       "      <td>[Among those who skipped or delayed a mortgage...</td>\n",
       "      <td>NaN</td>\n",
       "      <td>Education</td>\n",
       "      <td>University certificate</td>\n",
       "      <td>No</td>\n",
       "      <td>10800.0</td>\n",
       "      <td>13300</td>\n",
       "      <td>81.203008</td>\n",
       "      <td>Good</td>\n",
       "      <td>2</td>\n",
       "    </tr>\n",
       "    <tr>\n",
       "      <th>2</th>\n",
       "      <td>2018</td>\n",
       "      <td>Financial pressures</td>\n",
       "      <td>11</td>\n",
       "      <td>9</td>\n",
       "      <td>[Among those who skipped or delayed a mortgage...</td>\n",
       "      <td>NaN</td>\n",
       "      <td>Racial identity</td>\n",
       "      <td>Racialized</td>\n",
       "      <td>No</td>\n",
       "      <td>20900.0</td>\n",
       "      <td>25700</td>\n",
       "      <td>81.322957</td>\n",
       "      <td>Good</td>\n",
       "      <td>3</td>\n",
       "    </tr>\n",
       "    <tr>\n",
       "      <th>3</th>\n",
       "      <td>2021</td>\n",
       "      <td>Financial pressures</td>\n",
       "      <td>11</td>\n",
       "      <td>9</td>\n",
       "      <td>[Among those who skipped or delayed a mortgage...</td>\n",
       "      <td>NaN</td>\n",
       "      <td>Racial identity</td>\n",
       "      <td>Racialized</td>\n",
       "      <td>No</td>\n",
       "      <td>39800.0</td>\n",
       "      <td>43200</td>\n",
       "      <td>92.129630</td>\n",
       "      <td>Good</td>\n",
       "      <td>4</td>\n",
       "    </tr>\n",
       "    <tr>\n",
       "      <th>4</th>\n",
       "      <td>2018</td>\n",
       "      <td>Financial pressures</td>\n",
       "      <td>46</td>\n",
       "      <td>42</td>\n",
       "      <td>Is any member of your household currently on a...</td>\n",
       "      <td>NaN</td>\n",
       "      <td>Sexual orientation</td>\n",
       "      <td>LGBTQ2S+</td>\n",
       "      <td>No</td>\n",
       "      <td>38000.0</td>\n",
       "      <td>38000</td>\n",
       "      <td>100.000000</td>\n",
       "      <td>Good</td>\n",
       "      <td>5</td>\n",
       "    </tr>\n",
       "  </tbody>\n",
       "</table>\n",
       "</div>"
      ],
      "text/plain": [
       "   year                theme  qid_key  qid  \\\n",
       "0  2021  Financial pressures       11    9   \n",
       "1  2018  Financial pressures       11    9   \n",
       "2  2018  Financial pressures       11    9   \n",
       "3  2021  Financial pressures       11    9   \n",
       "4  2018  Financial pressures       46   42   \n",
       "\n",
       "                                             qheader qsub         socio_group  \\\n",
       "0  [Among those who skipped or delayed a mortgage...  NaN           Education   \n",
       "1  [Among those who skipped or delayed a mortgage...  NaN           Education   \n",
       "2  [Among those who skipped or delayed a mortgage...  NaN     Racial identity   \n",
       "3  [Among those who skipped or delayed a mortgage...  NaN     Racial identity   \n",
       "4  Is any member of your household currently on a...  NaN  Sexual orientation   \n",
       "\n",
       "                   group_ response      num  denom    percent_ Quality  \\\n",
       "0  University certificate       No  16300.0  17000   95.882353    Good   \n",
       "1  University certificate       No  10800.0  13300   81.203008    Good   \n",
       "2              Racialized       No  20900.0  25700   81.322957    Good   \n",
       "3              Racialized       No  39800.0  43200   92.129630    Good   \n",
       "4                LGBTQ2S+       No  38000.0  38000  100.000000    Good   \n",
       "\n",
       "   ObjectId  \n",
       "0         1  \n",
       "1         2  \n",
       "2         3  \n",
       "3         4  \n",
       "4         5  "
      ]
     },
     "execution_count": 174,
     "metadata": {},
     "output_type": "execute_result"
    }
   ],
   "source": [
    "\n",
    "# Display the first few rows of the cleaned data to verify the process\n",
    "data_cleaned.head()\n"
   ]
  },
  {
   "cell_type": "markdown",
   "metadata": {},
   "source": [
    "`qsub` __assumptions__ will have to be made for qsub column because there are alot of missing data and the column cannot directly be removed \n",
    "yet because it contains data about \n",
    "data_cleaned = data_cleaned.drop(columns='qsub')\n",
    "data_cleaned.head()\n",
    "\n",
    "Does not matter since we are only focused on data marked as `good`"
   ]
  },
  {
   "cell_type": "code",
   "execution_count": 175,
   "metadata": {},
   "outputs": [],
   "source": [
    "# save the new cleaned data and set the index to false to avoid the index to be saved as a new column\n",
    "data_cleaned.to_csv('clean_housing_data.csv', index = False)"
   ]
  },
  {
   "cell_type": "code",
   "execution_count": 176,
   "metadata": {},
   "outputs": [
    {
     "data": {
      "text/plain": [
       "(450, 14)"
      ]
     },
     "execution_count": 176,
     "metadata": {},
     "output_type": "execute_result"
    }
   ],
   "source": [
    "# Filter data for financial pressures theme\n",
    "financial_pressures = data_cleaned[data_cleaned['theme'] == 'Financial pressures']\n",
    "financial_pressures.shape"
   ]
  },
  {
   "cell_type": "code",
   "execution_count": 177,
   "metadata": {},
   "outputs": [
    {
     "data": {
      "text/plain": [
       "group_\n",
       "Total                                                                             52\n",
       "Female                                                                            50\n",
       "Male                                                                              50\n",
       "Non-racialized                                                                    49\n",
       "Racialized                                                                        46\n",
       "Heterosexual                                                                      44\n",
       "High school diploma or a equivalency certificate                                  41\n",
       "University certificate                                                            39\n",
       "Trade certificate, diploma, college, CEGEP or other non-university certificate    38\n",
       "Less than high school diploma or its equivalent                                   29\n",
       "LGBTQ2S+                                                                          12\n",
       "Name: count, dtype: int64"
      ]
     },
     "execution_count": 177,
     "metadata": {},
     "output_type": "execute_result"
    }
   ],
   "source": [
    "financial_pressures['group_'].value_counts()"
   ]
  },
  {
   "cell_type": "code",
   "execution_count": 178,
   "metadata": {},
   "outputs": [
    {
     "data": {
      "image/png": "[encoded data removed]",
      "text/plain": [
       "<Figure size 600x600 with 1 Axes>"
      ]
     },
     "metadata": {},
     "output_type": "display_data"
    }
   ],
   "source": [
    "# Filter data for financial pressures theme\n",
    "financial_pressures = data_cleaned[data_cleaned['theme'] == 'Financial pressures']\n",
    "\n",
    "# Group by year and calculate average percentage of respondents facing financial pressures\n",
    "avg_financial_pressure_by_year = financial_pressures.groupby('year')['percent_'].mean().reset_index()\n",
    "\n",
    "\n",
    "# Plotting\n",
    "plt.figure(figsize=(6, 6))\n",
    "sns.barplot(x='year', y='percent_', data=avg_financial_pressure_by_year)\n",
    "plt.title('Average Financial Pressure by Year')\n",
    "plt.xlabel('Year')\n",
    "plt.ylabel('Average Percentage')\n",
    "plt.show()\n"
   ]
  },
  {
   "cell_type": "code",
   "execution_count": 188,
   "metadata": {},
   "outputs": [
    {
     "data": {
      "text/html": [
       "<div>\n",
       "<style scoped>\n",
       "    .dataframe tbody tr th:only-of-type {\n",
       "        vertical-align: middle;\n",
       "    }\n",
       "\n",
       "    .dataframe tbody tr th {\n",
       "        vertical-align: top;\n",
       "    }\n",
       "\n",
       "    .dataframe thead th {\n",
       "        text-align: right;\n",
       "    }\n",
       "</style>\n",
       "<table border=\"1\" class=\"dataframe\">\n",
       "  <thead>\n",
       "    <tr style=\"text-align: right;\">\n",
       "      <th></th>\n",
       "      <th>year</th>\n",
       "      <th>percent_</th>\n",
       "    </tr>\n",
       "  </thead>\n",
       "  <tbody>\n",
       "    <tr>\n",
       "      <th>0</th>\n",
       "      <td>2018</td>\n",
       "      <td>41.597456</td>\n",
       "    </tr>\n",
       "    <tr>\n",
       "      <th>1</th>\n",
       "      <td>2021</td>\n",
       "      <td>45.697795</td>\n",
       "    </tr>\n",
       "  </tbody>\n",
       "</table>\n",
       "</div>"
      ],
      "text/plain": [
       "   year   percent_\n",
       "0  2018  41.597456\n",
       "1  2021  45.697795"
      ]
     },
     "execution_count": 188,
     "metadata": {},
     "output_type": "execute_result"
    }
   ],
   "source": [
    "avg_financial_pressure_by_year = financial_pressures.groupby('year')['percent_'].mean().reset_index()\n",
    "avg_financial_pressure_by_year.to_csv('avg_financial_pressure_by_year.csv')\n",
    "avg_financial_pressure_by_year.head()\n"
   ]
  },
  {
   "cell_type": "code",
   "execution_count": 180,
   "metadata": {},
   "outputs": [
    {
     "data": {
      "text/plain": [
       "(2, 2)"
      ]
     },
     "execution_count": 180,
     "metadata": {},
     "output_type": "execute_result"
    }
   ],
   "source": [
    "# financial pressure for EDI/DEI groups by year\n",
    "dei_groups = [\n",
    "    'Racialized',\n",
    "    'Female',\n",
    "    'LGBTQ2S+' ]\n",
    "\n",
    "financial_pressures_DEI = financial_pressures[financial_pressures['group_'].isin(dei_groups)]\n",
    "avg_financial_pressure_by_year_DEI = financial_pressures_DEI.groupby('year')['percent_'].mean().reset_index()\n",
    "\n",
    "avg_financial_pressure_by_year_DEI.to_csv('Average_financial_pressures_DEI.csv')\n",
    "avg_financial_pressure_by_year_DEI.shape"
   ]
  },
  {
   "cell_type": "code",
   "execution_count": 181,
   "metadata": {},
   "outputs": [
    {
     "data": {
      "image/png": "[encoded data removed]",
      "text/plain": [
       "<Figure size 600x600 with 1 Axes>"
      ]
     },
     "metadata": {},
     "output_type": "display_data"
    }
   ],
   "source": [
    "# Filter data for DEI financial pressures theme by year \n",
    "financial_pressures_DEI = financial_pressures[financial_pressures['group_'].isin(dei_groups)]\n",
    "avg_financial_pressure_by_year_DEI = financial_pressures_DEI.groupby('year')['percent_'].mean().reset_index()\n",
    "\n",
    "# Plotting\n",
    "plt.figure(figsize=(6, 6))\n",
    "sns.barplot(x='year', y='percent_', data=avg_financial_pressure_by_year_DEI)\n",
    "plt.title('DEI Average Financial Pressure by Year')\n",
    "plt.xlabel('Year')\n",
    "plt.ylabel('Percentage')\n",
    "plt.show()"
   ]
  },
  {
   "cell_type": "code",
   "execution_count": 182,
   "metadata": {},
   "outputs": [
    {
     "data": {
      "text/plain": [
       "(255, 14)"
      ]
     },
     "execution_count": 182,
     "metadata": {},
     "output_type": "execute_result"
    }
   ],
   "source": [
    "# Adjusting the theme filter\n",
    "housing_quality_needs = data_cleaned[data_cleaned['theme'] == 'Housing quality & needs']\n",
    "housing_quality_needs.to_csv('housing_quality_needs.csv')\n",
    "housing_quality_needs.shape"
   ]
  },
  {
   "cell_type": "code",
   "execution_count": 183,
   "metadata": {},
   "outputs": [
    {
     "data": {
      "text/html": [
       "<div>\n",
       "<style scoped>\n",
       "    .dataframe tbody tr th:only-of-type {\n",
       "        vertical-align: middle;\n",
       "    }\n",
       "\n",
       "    .dataframe tbody tr th {\n",
       "        vertical-align: top;\n",
       "    }\n",
       "\n",
       "    .dataframe thead th {\n",
       "        text-align: right;\n",
       "    }\n",
       "</style>\n",
       "<table border=\"1\" class=\"dataframe\">\n",
       "  <thead>\n",
       "    <tr style=\"text-align: right;\">\n",
       "      <th></th>\n",
       "      <th>year</th>\n",
       "      <th>theme</th>\n",
       "      <th>qid_key</th>\n",
       "      <th>qid</th>\n",
       "      <th>qheader</th>\n",
       "      <th>qsub</th>\n",
       "      <th>socio_group</th>\n",
       "      <th>group_</th>\n",
       "      <th>response</th>\n",
       "      <th>num</th>\n",
       "      <th>denom</th>\n",
       "      <th>percent_</th>\n",
       "      <th>Quality</th>\n",
       "      <th>ObjectId</th>\n",
       "    </tr>\n",
       "  </thead>\n",
       "  <tbody>\n",
       "    <tr>\n",
       "      <th>400</th>\n",
       "      <td>2018</td>\n",
       "      <td>Housing quality &amp; needs</td>\n",
       "      <td>54</td>\n",
       "      <td>48</td>\n",
       "      <td>Does your dwelling have all the adaptations th...</td>\n",
       "      <td>NaN</td>\n",
       "      <td>Education</td>\n",
       "      <td>University certificate</td>\n",
       "      <td>Yes</td>\n",
       "      <td>20200.0</td>\n",
       "      <td>34800</td>\n",
       "      <td>58.045977</td>\n",
       "      <td>Good</td>\n",
       "      <td>401</td>\n",
       "    </tr>\n",
       "    <tr>\n",
       "      <th>401</th>\n",
       "      <td>2018</td>\n",
       "      <td>Housing quality &amp; needs</td>\n",
       "      <td>54</td>\n",
       "      <td>48</td>\n",
       "      <td>Does your dwelling have all the adaptations th...</td>\n",
       "      <td>NaN</td>\n",
       "      <td>Racial identity</td>\n",
       "      <td>Racialized</td>\n",
       "      <td>Yes</td>\n",
       "      <td>12000.0</td>\n",
       "      <td>25100</td>\n",
       "      <td>47.808765</td>\n",
       "      <td>Good</td>\n",
       "      <td>402</td>\n",
       "    </tr>\n",
       "    <tr>\n",
       "      <th>402</th>\n",
       "      <td>2018</td>\n",
       "      <td>Housing quality &amp; needs</td>\n",
       "      <td>53</td>\n",
       "      <td>47</td>\n",
       "      <td>Does any member of your household have a physi...</td>\n",
       "      <td>NaN</td>\n",
       "      <td>Sexual orientation</td>\n",
       "      <td>LGBTQ2S+</td>\n",
       "      <td>No</td>\n",
       "      <td>17800.0</td>\n",
       "      <td>19800</td>\n",
       "      <td>89.898990</td>\n",
       "      <td>Good</td>\n",
       "      <td>403</td>\n",
       "    </tr>\n",
       "    <tr>\n",
       "      <th>404</th>\n",
       "      <td>2018</td>\n",
       "      <td>Housing quality &amp; needs</td>\n",
       "      <td>53</td>\n",
       "      <td>47</td>\n",
       "      <td>Does any member of your household have a physi...</td>\n",
       "      <td>NaN</td>\n",
       "      <td>Sex</td>\n",
       "      <td>Female</td>\n",
       "      <td>No</td>\n",
       "      <td>488200.0</td>\n",
       "      <td>532200</td>\n",
       "      <td>91.732431</td>\n",
       "      <td>Good</td>\n",
       "      <td>405</td>\n",
       "    </tr>\n",
       "    <tr>\n",
       "      <th>405</th>\n",
       "      <td>2018</td>\n",
       "      <td>Housing quality &amp; needs</td>\n",
       "      <td>53</td>\n",
       "      <td>47</td>\n",
       "      <td>Does any member of your household have a physi...</td>\n",
       "      <td>NaN</td>\n",
       "      <td>Sexual orientation</td>\n",
       "      <td>Heterosexual</td>\n",
       "      <td>No</td>\n",
       "      <td>358500.0</td>\n",
       "      <td>388600</td>\n",
       "      <td>92.254246</td>\n",
       "      <td>Good</td>\n",
       "      <td>406</td>\n",
       "    </tr>\n",
       "  </tbody>\n",
       "</table>\n",
       "</div>"
      ],
      "text/plain": [
       "     year                    theme  qid_key  qid  \\\n",
       "400  2018  Housing quality & needs       54   48   \n",
       "401  2018  Housing quality & needs       54   48   \n",
       "402  2018  Housing quality & needs       53   47   \n",
       "404  2018  Housing quality & needs       53   47   \n",
       "405  2018  Housing quality & needs       53   47   \n",
       "\n",
       "                                               qheader qsub  \\\n",
       "400  Does your dwelling have all the adaptations th...  NaN   \n",
       "401  Does your dwelling have all the adaptations th...  NaN   \n",
       "402  Does any member of your household have a physi...  NaN   \n",
       "404  Does any member of your household have a physi...  NaN   \n",
       "405  Does any member of your household have a physi...  NaN   \n",
       "\n",
       "            socio_group                  group_ response       num   denom  \\\n",
       "400           Education  University certificate      Yes   20200.0   34800   \n",
       "401     Racial identity              Racialized      Yes   12000.0   25100   \n",
       "402  Sexual orientation                LGBTQ2S+       No   17800.0   19800   \n",
       "404                 Sex                  Female       No  488200.0  532200   \n",
       "405  Sexual orientation            Heterosexual       No  358500.0  388600   \n",
       "\n",
       "      percent_ Quality  ObjectId  \n",
       "400  58.045977    Good       401  \n",
       "401  47.808765    Good       402  \n",
       "402  89.898990    Good       403  \n",
       "404  91.732431    Good       405  \n",
       "405  92.254246    Good       406  "
      ]
     },
     "execution_count": 183,
     "metadata": {},
     "output_type": "execute_result"
    }
   ],
   "source": [
    "housing_quality_needs.head()"
   ]
  },
  {
   "cell_type": "code",
   "execution_count": 184,
   "metadata": {},
   "outputs": [
    {
     "data": {
      "image/png": "[encoded data removed]",
      "text/plain": [
       "<Figure size 1273.99x600 with 1 Axes>"
      ]
     },
     "metadata": {},
     "output_type": "display_data"
    }
   ],
   "source": [
    "# Assuming 'response' column indicates adequacy, with responses like 'Adequate' and 'Inadequate'\n",
    "sns.catplot(data=housing_quality_needs, kind=\"bar\", x=\"socio_group\", y=\"percent_\", hue=\"response\", errorbar=None, height=6, aspect=2)\n",
    "plt.title('Housing Quality & Needs Across Socio-Demographic Groups')\n",
    "plt.xticks(rotation=45)\n",
    "plt.ylabel('Percentage (%)')\n",
    "plt.xlabel('Socio-Demographic Group')\n",
    "plt.tight_layout()\n",
    "plt.show()"
   ]
  },
  {
   "cell_type": "code",
   "execution_count": 185,
   "metadata": {},
   "outputs": [
    {
     "data": {
      "text/plain": [
       "group_\n",
       "Total                                                                             28\n",
       "Racialized                                                                        27\n",
       "Female                                                                            26\n",
       "Male                                                                              25\n",
       "Non-racialized                                                                    25\n",
       "University certificate                                                            24\n",
       "Heterosexual                                                                      24\n",
       "High school diploma or a equivalency certificate                                  23\n",
       "Trade certificate, diploma, college, CEGEP or other non-university certificate    23\n",
       "Less than high school diploma or its equivalent                                   19\n",
       "LGBTQ2S+                                                                          11\n",
       "Name: count, dtype: int64"
      ]
     },
     "execution_count": 185,
     "metadata": {},
     "output_type": "execute_result"
    }
   ],
   "source": [
    "housing_quality_needs['group_'].value_counts()"
   ]
  },
  {
   "cell_type": "code",
   "execution_count": 186,
   "metadata": {},
   "outputs": [
    {
     "data": {
      "text/html": [
       "<div>\n",
       "<style scoped>\n",
       "    .dataframe tbody tr th:only-of-type {\n",
       "        vertical-align: middle;\n",
       "    }\n",
       "\n",
       "    .dataframe tbody tr th {\n",
       "        vertical-align: top;\n",
       "    }\n",
       "\n",
       "    .dataframe thead th {\n",
       "        text-align: right;\n",
       "    }\n",
       "</style>\n",
       "<table border=\"1\" class=\"dataframe\">\n",
       "  <thead>\n",
       "    <tr style=\"text-align: right;\">\n",
       "      <th></th>\n",
       "      <th>year</th>\n",
       "      <th>theme</th>\n",
       "      <th>qid_key</th>\n",
       "      <th>qid</th>\n",
       "      <th>qheader</th>\n",
       "      <th>qsub</th>\n",
       "      <th>socio_group</th>\n",
       "      <th>group_</th>\n",
       "      <th>response</th>\n",
       "      <th>num</th>\n",
       "      <th>denom</th>\n",
       "      <th>percent_</th>\n",
       "      <th>Quality</th>\n",
       "      <th>ObjectId</th>\n",
       "    </tr>\n",
       "  </thead>\n",
       "  <tbody>\n",
       "    <tr>\n",
       "      <th>401</th>\n",
       "      <td>2018</td>\n",
       "      <td>Housing quality &amp; needs</td>\n",
       "      <td>54</td>\n",
       "      <td>48</td>\n",
       "      <td>Does your dwelling have all the adaptations th...</td>\n",
       "      <td>NaN</td>\n",
       "      <td>Racial identity</td>\n",
       "      <td>Racialized</td>\n",
       "      <td>Yes</td>\n",
       "      <td>12000.0</td>\n",
       "      <td>25100</td>\n",
       "      <td>47.808765</td>\n",
       "      <td>Good</td>\n",
       "      <td>402</td>\n",
       "    </tr>\n",
       "    <tr>\n",
       "      <th>402</th>\n",
       "      <td>2018</td>\n",
       "      <td>Housing quality &amp; needs</td>\n",
       "      <td>53</td>\n",
       "      <td>47</td>\n",
       "      <td>Does any member of your household have a physi...</td>\n",
       "      <td>NaN</td>\n",
       "      <td>Sexual orientation</td>\n",
       "      <td>LGBTQ2S+</td>\n",
       "      <td>No</td>\n",
       "      <td>17800.0</td>\n",
       "      <td>19800</td>\n",
       "      <td>89.898990</td>\n",
       "      <td>Good</td>\n",
       "      <td>403</td>\n",
       "    </tr>\n",
       "    <tr>\n",
       "      <th>404</th>\n",
       "      <td>2018</td>\n",
       "      <td>Housing quality &amp; needs</td>\n",
       "      <td>53</td>\n",
       "      <td>47</td>\n",
       "      <td>Does any member of your household have a physi...</td>\n",
       "      <td>NaN</td>\n",
       "      <td>Sex</td>\n",
       "      <td>Female</td>\n",
       "      <td>No</td>\n",
       "      <td>488200.0</td>\n",
       "      <td>532200</td>\n",
       "      <td>91.732431</td>\n",
       "      <td>Good</td>\n",
       "      <td>405</td>\n",
       "    </tr>\n",
       "    <tr>\n",
       "      <th>418</th>\n",
       "      <td>2018</td>\n",
       "      <td>Housing quality &amp; needs</td>\n",
       "      <td>53</td>\n",
       "      <td>47</td>\n",
       "      <td>Does any member of your household have a physi...</td>\n",
       "      <td>NaN</td>\n",
       "      <td>Racial identity</td>\n",
       "      <td>Racialized</td>\n",
       "      <td>No</td>\n",
       "      <td>259200.0</td>\n",
       "      <td>285000</td>\n",
       "      <td>90.947368</td>\n",
       "      <td>Good</td>\n",
       "      <td>419</td>\n",
       "    </tr>\n",
       "    <tr>\n",
       "      <th>419</th>\n",
       "      <td>2018</td>\n",
       "      <td>Housing quality &amp; needs</td>\n",
       "      <td>54</td>\n",
       "      <td>48</td>\n",
       "      <td>Does your dwelling have all the adaptations th...</td>\n",
       "      <td>NaN</td>\n",
       "      <td>Sex</td>\n",
       "      <td>Female</td>\n",
       "      <td>No</td>\n",
       "      <td>21100.0</td>\n",
       "      <td>43300</td>\n",
       "      <td>48.729792</td>\n",
       "      <td>Good</td>\n",
       "      <td>420</td>\n",
       "    </tr>\n",
       "  </tbody>\n",
       "</table>\n",
       "</div>"
      ],
      "text/plain": [
       "     year                    theme  qid_key  qid  \\\n",
       "401  2018  Housing quality & needs       54   48   \n",
       "402  2018  Housing quality & needs       53   47   \n",
       "404  2018  Housing quality & needs       53   47   \n",
       "418  2018  Housing quality & needs       53   47   \n",
       "419  2018  Housing quality & needs       54   48   \n",
       "\n",
       "                                               qheader qsub  \\\n",
       "401  Does your dwelling have all the adaptations th...  NaN   \n",
       "402  Does any member of your household have a physi...  NaN   \n",
       "404  Does any member of your household have a physi...  NaN   \n",
       "418  Does any member of your household have a physi...  NaN   \n",
       "419  Does your dwelling have all the adaptations th...  NaN   \n",
       "\n",
       "            socio_group      group_ response       num   denom   percent_  \\\n",
       "401     Racial identity  Racialized      Yes   12000.0   25100  47.808765   \n",
       "402  Sexual orientation    LGBTQ2S+       No   17800.0   19800  89.898990   \n",
       "404                 Sex      Female       No  488200.0  532200  91.732431   \n",
       "418     Racial identity  Racialized       No  259200.0  285000  90.947368   \n",
       "419                 Sex      Female       No   21100.0   43300  48.729792   \n",
       "\n",
       "    Quality  ObjectId  \n",
       "401    Good       402  \n",
       "402    Good       403  \n",
       "404    Good       405  \n",
       "418    Good       419  \n",
       "419    Good       420  "
      ]
     },
     "execution_count": 186,
     "metadata": {},
     "output_type": "execute_result"
    }
   ],
   "source": [
    "#filtering for DEI groups only in the group_ column\n",
    "dei_groups = [\n",
    "    'Racialized',\n",
    "    'Female',\n",
    "    'LGBTQ2S+'\n",
    "]\n",
    "housing_quality_needs_DEI = housing_quality_needs[housing_quality_needs['group_'].isin(dei_groups)]\n",
    "housing_quality_needs_DEI.to_csv('housing_quality_needs_DEI.csv')\n",
    "housing_quality_needs_DEI.head()"
   ]
  },
  {
   "cell_type": "code",
   "execution_count": 187,
   "metadata": {},
   "outputs": [
    {
     "data": {
      "image/png": "[encoded data removed]",
      "text/plain": [
       "<Figure size 1273.99x600 with 1 Axes>"
      ]
     },
     "metadata": {},
     "output_type": "display_data"
    }
   ],
   "source": [
    "# housing quality and needs by DEI groups \n",
    "# Assuming 'response' column indicates adequacy, with responses like 'Adequate' and 'Inadequate'\n",
    "sns.catplot(data=housing_quality_needs_DEI, kind=\"bar\", x=\"group_\", y=\"percent_\", hue=\"response\", errorbar=None, height=6, aspect=2)\n",
    "plt.title('Housing Quality & Needs Across EDI Groups')\n",
    "plt.xticks(rotation=45)\n",
    "plt.ylabel('Percentage (%)')\n",
    "plt.xlabel('DEI Group')\n",
    "plt.tight_layout()\n",
    "plt.show()"
   ]
  }
 ],
 "metadata": {
  "kernelspec": {
   "display_name": "Python 3",
   "language": "python",
   "name": "python3"
  },
  "language_info": {
   "codemirror_mode": {
    "name": "ipython",
    "version": 3
   },
   "file_extension": ".py",
   "mimetype": "text/x-python",
   "name": "python",
   "nbconvert_exporter": "python",
   "pygments_lexer": "ipython3",
   "version": "3.11.1"
  }
 },
 "nbformat": 4,
 "nbformat_minor": 2
}
